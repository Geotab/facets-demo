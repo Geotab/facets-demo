{
 "cells": [
  {
   "cell_type": "markdown",
   "metadata": {
    "deletable": true,
    "editable": true
   },
   "source": [
    "## Package Load\n",
    "Load the packages we'll be using to explore the data. All standard imports except for the custom facets tool.\n",
    "We'll be importing the \"dive\" class from our custom facets tool."
   ]
  },
  {
   "cell_type": "code",
   "execution_count": 4,
   "metadata": {
    "collapsed": true,
    "deletable": true,
    "editable": true
   },
   "outputs": [],
   "source": [
    "import numpy as np\n",
    "import pandas as pd\n",
    "from PIL import Image\n",
    "from facets import dive # <-- Our custom version of facets, get at https://github.com/jsiddique/facets\n",
    "from sklearn import metrics\n",
    "import matplotlib.pyplot as plt\n",
    "from matplotlib.ticker import FormatStrFormatter\n",
    "from sklearn.ensemble import RandomForestClassifier\n",
    "from sklearn.model_selection import train_test_split\n",
    "plt.ioff()"
   ]
  },
  {
   "cell_type": "markdown",
   "metadata": {
    "deletable": true,
    "editable": true
   },
   "source": [
    "## Load Data from CSV"
   ]
  },
  {
   "cell_type": "markdown",
   "metadata": {
    "deletable": true,
    "editable": true
   },
   "source": [
    "We've created a CSV file of anonymized voltage data that we extracted from our `BigQuery` environment. Some of this voltage data is valid, some is invalid, most of it contains noise and some are corrupted. This is what we would start with, raw, off of our devices."
   ]
  },
  {
   "cell_type": "code",
   "execution_count": 2,
   "metadata": {
    "collapsed": false,
    "deletable": true,
    "editable": true
   },
   "outputs": [],
   "source": [
    "df = pd.read_csv('CrankingVoltages.csv') # <-- Anonymized cranking voltage data\n",
    "df = df.sort_values(by=['EventID', 'Milliseconds'])\n",
    "df = df.reset_index(drop=True)"
   ]
  },
  {
   "cell_type": "code",
   "execution_count": 5,
   "metadata": {
    "collapsed": false,
    "deletable": true,
    "editable": true
   },
   "outputs": [
    {
     "data": {
      "text/html": [
       "<div>\n",
       "<style scoped>\n",
       "    .dataframe tbody tr th:only-of-type {\n",
       "        vertical-align: middle;\n",
       "    }\n",
       "\n",
       "    .dataframe tbody tr th {\n",
       "        vertical-align: top;\n",
       "    }\n",
       "\n",
       "    .dataframe thead th {\n",
       "        text-align: right;\n",
       "    }\n",
       "</style>\n",
       "<table border=\"1\" class=\"dataframe\">\n",
       "  <thead>\n",
       "    <tr style=\"text-align: right;\">\n",
       "      <th></th>\n",
       "      <th>EventID</th>\n",
       "      <th>Milliseconds</th>\n",
       "      <th>Voltage</th>\n",
       "      <th>NumRecords</th>\n",
       "      <th>EventSpan</th>\n",
       "      <th>MinVoltage</th>\n",
       "      <th>AvgVoltage</th>\n",
       "      <th>MaxVoltage</th>\n",
       "      <th>MaxMinDiff</th>\n",
       "      <th>FirstMinDiff</th>\n",
       "      <th>...</th>\n",
       "      <th>AvgDiffAfterMin</th>\n",
       "      <th>MaxDiffBeforeMin</th>\n",
       "      <th>MaxDiffAfterMin</th>\n",
       "      <th>MaxVoltageBeforeMinMinusMin</th>\n",
       "      <th>MaxVoltageAfterMinMinusMin</th>\n",
       "      <th>VoltageSumBeforeMin</th>\n",
       "      <th>VoltageSumAfterMin</th>\n",
       "      <th>SumOfVoltageDiffsBeforeMin</th>\n",
       "      <th>SumOfVoltageDiffsAfterMin</th>\n",
       "      <th>DipLocation</th>\n",
       "    </tr>\n",
       "  </thead>\n",
       "  <tbody>\n",
       "    <tr>\n",
       "      <th>0</th>\n",
       "      <td>006f7c744980</td>\n",
       "      <td>0</td>\n",
       "      <td>12.28630</td>\n",
       "      <td>10</td>\n",
       "      <td>9918</td>\n",
       "      <td>9.6</td>\n",
       "      <td>11.73</td>\n",
       "      <td>14.25</td>\n",
       "      <td>4.65</td>\n",
       "      <td>2.68</td>\n",
       "      <td>...</td>\n",
       "      <td>0.91</td>\n",
       "      <td>2.08</td>\n",
       "      <td>2.15</td>\n",
       "      <td>2.69</td>\n",
       "      <td>4.65</td>\n",
       "      <td>57.03</td>\n",
       "      <td>60.25</td>\n",
       "      <td>4.55</td>\n",
       "      <td>3.65</td>\n",
       "      <td>0.5</td>\n",
       "    </tr>\n",
       "    <tr>\n",
       "      <th>1</th>\n",
       "      <td>006f7c744980</td>\n",
       "      <td>3699</td>\n",
       "      <td>12.21474</td>\n",
       "      <td>10</td>\n",
       "      <td>9918</td>\n",
       "      <td>9.6</td>\n",
       "      <td>11.73</td>\n",
       "      <td>14.25</td>\n",
       "      <td>4.65</td>\n",
       "      <td>2.68</td>\n",
       "      <td>...</td>\n",
       "      <td>0.91</td>\n",
       "      <td>2.08</td>\n",
       "      <td>2.15</td>\n",
       "      <td>2.69</td>\n",
       "      <td>4.65</td>\n",
       "      <td>57.03</td>\n",
       "      <td>60.25</td>\n",
       "      <td>4.55</td>\n",
       "      <td>3.65</td>\n",
       "      <td>0.5</td>\n",
       "    </tr>\n",
       "    <tr>\n",
       "      <th>2</th>\n",
       "      <td>006f7c744980</td>\n",
       "      <td>3800</td>\n",
       "      <td>11.24868</td>\n",
       "      <td>10</td>\n",
       "      <td>9918</td>\n",
       "      <td>9.6</td>\n",
       "      <td>11.73</td>\n",
       "      <td>14.25</td>\n",
       "      <td>4.65</td>\n",
       "      <td>2.68</td>\n",
       "      <td>...</td>\n",
       "      <td>0.91</td>\n",
       "      <td>2.08</td>\n",
       "      <td>2.15</td>\n",
       "      <td>2.69</td>\n",
       "      <td>4.65</td>\n",
       "      <td>57.03</td>\n",
       "      <td>60.25</td>\n",
       "      <td>4.55</td>\n",
       "      <td>3.65</td>\n",
       "      <td>0.5</td>\n",
       "    </tr>\n",
       "    <tr>\n",
       "      <th>3</th>\n",
       "      <td>006f7c744980</td>\n",
       "      <td>4000</td>\n",
       "      <td>11.67804</td>\n",
       "      <td>10</td>\n",
       "      <td>9918</td>\n",
       "      <td>9.6</td>\n",
       "      <td>11.73</td>\n",
       "      <td>14.25</td>\n",
       "      <td>4.65</td>\n",
       "      <td>2.68</td>\n",
       "      <td>...</td>\n",
       "      <td>0.91</td>\n",
       "      <td>2.08</td>\n",
       "      <td>2.15</td>\n",
       "      <td>2.69</td>\n",
       "      <td>4.65</td>\n",
       "      <td>57.03</td>\n",
       "      <td>60.25</td>\n",
       "      <td>4.55</td>\n",
       "      <td>3.65</td>\n",
       "      <td>0.5</td>\n",
       "    </tr>\n",
       "    <tr>\n",
       "      <th>4</th>\n",
       "      <td>006f7c744980</td>\n",
       "      <td>4101</td>\n",
       "      <td>9.60280</td>\n",
       "      <td>10</td>\n",
       "      <td>9918</td>\n",
       "      <td>9.6</td>\n",
       "      <td>11.73</td>\n",
       "      <td>14.25</td>\n",
       "      <td>4.65</td>\n",
       "      <td>2.68</td>\n",
       "      <td>...</td>\n",
       "      <td>0.91</td>\n",
       "      <td>2.08</td>\n",
       "      <td>2.15</td>\n",
       "      <td>2.69</td>\n",
       "      <td>4.65</td>\n",
       "      <td>57.03</td>\n",
       "      <td>60.25</td>\n",
       "      <td>4.55</td>\n",
       "      <td>3.65</td>\n",
       "      <td>0.5</td>\n",
       "    </tr>\n",
       "  </tbody>\n",
       "</table>\n",
       "<p>5 rows × 25 columns</p>\n",
       "</div>"
      ],
      "text/plain": [
       "        EventID  Milliseconds   Voltage  NumRecords  EventSpan  MinVoltage  \\\n",
       "0  006f7c744980             0  12.28630          10       9918         9.6   \n",
       "1  006f7c744980          3699  12.21474          10       9918         9.6   \n",
       "2  006f7c744980          3800  11.24868          10       9918         9.6   \n",
       "3  006f7c744980          4000  11.67804          10       9918         9.6   \n",
       "4  006f7c744980          4101   9.60280          10       9918         9.6   \n",
       "\n",
       "   AvgVoltage  MaxVoltage  MaxMinDiff  FirstMinDiff     ...       \\\n",
       "0       11.73       14.25        4.65          2.68     ...        \n",
       "1       11.73       14.25        4.65          2.68     ...        \n",
       "2       11.73       14.25        4.65          2.68     ...        \n",
       "3       11.73       14.25        4.65          2.68     ...        \n",
       "4       11.73       14.25        4.65          2.68     ...        \n",
       "\n",
       "   AvgDiffAfterMin  MaxDiffBeforeMin  MaxDiffAfterMin  \\\n",
       "0             0.91              2.08             2.15   \n",
       "1             0.91              2.08             2.15   \n",
       "2             0.91              2.08             2.15   \n",
       "3             0.91              2.08             2.15   \n",
       "4             0.91              2.08             2.15   \n",
       "\n",
       "   MaxVoltageBeforeMinMinusMin  MaxVoltageAfterMinMinusMin  \\\n",
       "0                         2.69                        4.65   \n",
       "1                         2.69                        4.65   \n",
       "2                         2.69                        4.65   \n",
       "3                         2.69                        4.65   \n",
       "4                         2.69                        4.65   \n",
       "\n",
       "   VoltageSumBeforeMin  VoltageSumAfterMin  SumOfVoltageDiffsBeforeMin  \\\n",
       "0                57.03               60.25                        4.55   \n",
       "1                57.03               60.25                        4.55   \n",
       "2                57.03               60.25                        4.55   \n",
       "3                57.03               60.25                        4.55   \n",
       "4                57.03               60.25                        4.55   \n",
       "\n",
       "   SumOfVoltageDiffsAfterMin  DipLocation  \n",
       "0                       3.65          0.5  \n",
       "1                       3.65          0.5  \n",
       "2                       3.65          0.5  \n",
       "3                       3.65          0.5  \n",
       "4                       3.65          0.5  \n",
       "\n",
       "[5 rows x 25 columns]"
      ]
     },
     "execution_count": 5,
     "metadata": {},
     "output_type": "execute_result"
    }
   ],
   "source": [
    "df.head()"
   ]
  },
  {
   "cell_type": "markdown",
   "metadata": {
    "deletable": true,
    "editable": true
   },
   "source": [
    "## DataFrame of Unique Event Labels\n",
    "We'll now create a dataframe which holds each of the unique event ID values. We will iterate over this to create separate plots to visualize each event."
   ]
  },
  {
   "cell_type": "code",
   "execution_count": 6,
   "metadata": {
    "collapsed": true,
    "deletable": true,
    "editable": true
   },
   "outputs": [],
   "source": [
    "events = df[['EventID']].drop_duplicates()\n",
    "events = events.reset_index(drop=True)"
   ]
  },
  {
   "cell_type": "code",
   "execution_count": 7,
   "metadata": {
    "collapsed": false,
    "deletable": true,
    "editable": true
   },
   "outputs": [
    {
     "data": {
      "text/html": [
       "<div>\n",
       "<style scoped>\n",
       "    .dataframe tbody tr th:only-of-type {\n",
       "        vertical-align: middle;\n",
       "    }\n",
       "\n",
       "    .dataframe tbody tr th {\n",
       "        vertical-align: top;\n",
       "    }\n",
       "\n",
       "    .dataframe thead th {\n",
       "        text-align: right;\n",
       "    }\n",
       "</style>\n",
       "<table border=\"1\" class=\"dataframe\">\n",
       "  <thead>\n",
       "    <tr style=\"text-align: right;\">\n",
       "      <th></th>\n",
       "      <th>EventID</th>\n",
       "    </tr>\n",
       "  </thead>\n",
       "  <tbody>\n",
       "    <tr>\n",
       "      <th>0</th>\n",
       "      <td>006f7c744980</td>\n",
       "    </tr>\n",
       "    <tr>\n",
       "      <th>1</th>\n",
       "      <td>00cada351560</td>\n",
       "    </tr>\n",
       "    <tr>\n",
       "      <th>2</th>\n",
       "      <td>00ccfd693891</td>\n",
       "    </tr>\n",
       "    <tr>\n",
       "      <th>3</th>\n",
       "      <td>0100307c65a8</td>\n",
       "    </tr>\n",
       "    <tr>\n",
       "      <th>4</th>\n",
       "      <td>01b64b570930</td>\n",
       "    </tr>\n",
       "  </tbody>\n",
       "</table>\n",
       "</div>"
      ],
      "text/plain": [
       "        EventID\n",
       "0  006f7c744980\n",
       "1  00cada351560\n",
       "2  00ccfd693891\n",
       "3  0100307c65a8\n",
       "4  01b64b570930"
      ]
     },
     "execution_count": 7,
     "metadata": {},
     "output_type": "execute_result"
    }
   ],
   "source": [
    "events.head()"
   ]
  },
  {
   "cell_type": "markdown",
   "metadata": {
    "deletable": true,
    "editable": true
   },
   "source": [
    "## Extract Simple Characteristics\n",
    "Next we'll extract some simple characteristics of the curve to demonstrate the utility of the facets exploration tool. In this example, some simple minimum, maximum, and average values, but you can extract any kind of feature you want.\n",
    "\n",
    "For our example, this has already been done."
   ]
  },
  {
   "cell_type": "code",
   "execution_count": 8,
   "metadata": {
    "collapsed": false,
    "deletable": true,
    "editable": true
   },
   "outputs": [],
   "source": [
    "MaxVoltage = df[['EventID', 'Voltage']].groupby(by=['EventID']).max()\n",
    "MaxVoltage = MaxVoltage.rename(index=str, columns={'Voltage': 'MaxVoltage'})\n",
    "\n",
    "MinVoltage = df[['EventID', 'Voltage']].groupby(by=['EventID']).min()\n",
    "MinVoltage = MinVoltage.rename(index=str, columns={'Voltage': 'MinVoltage'})\n",
    "\n",
    "AvgVoltage = df[['EventID', 'Voltage']].groupby(by=['EventID']).mean()\n",
    "AvgVoltage = AvgVoltage.rename(index=str, columns={'Voltage': 'AvgVoltage'})"
   ]
  },
  {
   "cell_type": "markdown",
   "metadata": {
    "deletable": true,
    "editable": true
   },
   "source": [
    "## Create Plots\n",
    "We'll now create the individual plots that we will visualize with facets."
   ]
  },
  {
   "cell_type": "markdown",
   "metadata": {
    "deletable": true,
    "editable": true
   },
   "source": [
    "![Cranking](./reference/002.png)"
   ]
  },
  {
   "cell_type": "code",
   "execution_count": 9,
   "metadata": {
    "collapsed": false,
    "deletable": true,
    "editable": true
   },
   "outputs": [],
   "source": [
    "%%capture\n",
    "!mkdir image_files"
   ]
  },
  {
   "cell_type": "code",
   "execution_count": 10,
   "metadata": {
    "collapsed": true,
    "deletable": true,
    "editable": true
   },
   "outputs": [],
   "source": [
    "id_array = []\n",
    "id_features = pd.DataFrame([], columns=['MaxVoltage', 'MinVoltage', 'AvgVoltage', 'EventSpan', 'MaxMinDiff', 'FirstMinDiff', 'LastVoltage'])\n",
    "img_dim_inches = 1.5\n",
    "img_dpi = 150\n",
    "num_examples = 400"
   ]
  },
  {
   "cell_type": "code",
   "execution_count": 11,
   "metadata": {
    "collapsed": false,
    "deletable": true,
    "editable": true
   },
   "outputs": [],
   "source": [
    "reRun = False\n",
    "\n",
    "for i in range(400):\n",
    "    id_array.append(events.iloc[i]['EventID'])\n",
    "    \n",
    "    example = pd.merge(df, events.iloc[[i]])\n",
    "    id_features = pd.concat([id_features, example[['MaxVoltage', 'MinVoltage', 'AvgVoltage', 'EventSpan', 'MaxMinDiff', 'FirstMinDiff', 'LastVoltage']].drop_duplicates()], axis=0)\n",
    "    \n",
    "    if reRun:\n",
    "        fig = plt.figure(figsize=(img_dim_inches, img_dim_inches), dpi=img_dpi)\n",
    "        ax = fig.add_axes([0.17, 0.03, 0.81, 0.93])\n",
    "        _ = ax.plot(example['Milliseconds'], example['Voltage'], linewidth=2, c='red', zorder=2)\n",
    "        _ = ax.scatter(example['Milliseconds'], example['Voltage'], s=11, c='black', zorder=3)\n",
    "        _ = ax.set_xticks([])\n",
    "        _ = ax.set_ylim([8, example['Voltage'].max() + 1])\n",
    "        _ = ax.yaxis.set_major_formatter(FormatStrFormatter('%.1f'))\n",
    "        _ = ax.tick_params(axis='both', which='major', labelsize=6, pad=1)\n",
    "        _ = ax.tick_params(axis='both', which='minor', labelsize=6, pad=1)\n",
    "        _ = fig.savefig('./image_files/' + str(i).zfill(3) + '.png', transparent=False, dpi=img_dpi)\n",
    "        _ = plt.close(fig)"
   ]
  },
  {
   "cell_type": "markdown",
   "metadata": {
    "deletable": true,
    "editable": true
   },
   "source": [
    "## Create Stitched Image\n",
    "Each of these images can now be stitched together into one \"master\" image that will be manipulated by the facets tool."
   ]
  },
  {
   "cell_type": "markdown",
   "metadata": {
    "deletable": true,
    "editable": true
   },
   "source": [
    "![Stitch Image](./reference/image_array.png)"
   ]
  },
  {
   "cell_type": "code",
   "execution_count": 33,
   "metadata": {
    "collapsed": true,
    "deletable": true,
    "editable": true
   },
   "outputs": [],
   "source": [
    "num_examples = 400"
   ]
  },
  {
   "cell_type": "code",
   "execution_count": 34,
   "metadata": {
    "collapsed": false,
    "deletable": true,
    "editable": true
   },
   "outputs": [],
   "source": [
    "img_arr = np.zeros([int(20*img_dim_inches*img_dpi), int(20*img_dim_inches*img_dpi), 4])"
   ]
  },
  {
   "cell_type": "code",
   "execution_count": 35,
   "metadata": {
    "collapsed": false,
    "deletable": true,
    "editable": true
   },
   "outputs": [],
   "source": [
    "if reRun:\n",
    "    for i in range(0, num_examples):\n",
    "        colnum = i%int(20)\n",
    "        rownum = i/int(20)\n",
    "        cols = []\n",
    "        tmp_img = np.array(Image.open('./image_files/' + str(i).zfill(3) + '.png').getdata()).reshape(int(img_dim_inches*img_dpi), int(img_dim_inches*img_dpi), 4)\n",
    "        img_arr[int(rownum*img_dim_inches*img_dpi):int(rownum*img_dim_inches*img_dpi+img_dim_inches*img_dpi), \n",
    "                int(colnum*img_dim_inches*img_dpi):int(colnum*img_dim_inches*img_dpi+img_dim_inches*img_dpi), \n",
    "                :] = tmp_img"
   ]
  },
  {
   "cell_type": "code",
   "execution_count": 36,
   "metadata": {
    "collapsed": false,
    "deletable": true,
    "editable": true
   },
   "outputs": [],
   "source": [
    "if reRun:\n",
    "    imgout = Image.fromarray(img_arr.astype('uint8'))"
   ]
  },
  {
   "cell_type": "code",
   "execution_count": 37,
   "metadata": {
    "collapsed": true,
    "deletable": true,
    "editable": true
   },
   "outputs": [],
   "source": [
    "if reRun:\n",
    "    imgout.save('atlas_transparent.png', 'PNG')"
   ]
  },
  {
   "cell_type": "markdown",
   "metadata": {
    "deletable": true,
    "editable": true
   },
   "source": [
    "## Create Facets ID Metadata\n",
    "The Facets JSON object holds all of the metadata for each of the events. We construct it in the same order that we created the image so facets can keep track of each image location."
   ]
  },
  {
   "cell_type": "markdown",
   "metadata": {
    "deletable": true,
    "editable": true
   },
   "source": [
    "![Stitch Image](./reference/image_array2.png)"
   ]
  },
  {
   "cell_type": "code",
   "execution_count": 39,
   "metadata": {
    "collapsed": true,
    "deletable": true,
    "editable": true
   },
   "outputs": [],
   "source": [
    "reRun = True"
   ]
  },
  {
   "cell_type": "code",
   "execution_count": 40,
   "metadata": {
    "collapsed": false,
    "deletable": true,
    "editable": true
   },
   "outputs": [],
   "source": [
    "if reRun:\n",
    "    id_features.reset_index(inplace=True, drop=True)\n",
    "    id_df = pd.DataFrame(id_array, columns=['Id'])\n",
    "    id_df = pd.concat([id_df, id_features], axis=1)\n",
    "    id_json = id_df.to_json(orient='records')"
   ]
  },
  {
   "cell_type": "markdown",
   "metadata": {
    "deletable": true,
    "editable": true
   },
   "source": [
    "## Construct Facets HTML\n",
    "We're now ready to visualize!"
   ]
  },
  {
   "cell_type": "code",
   "execution_count": 41,
   "metadata": {
    "collapsed": false,
    "deletable": true,
    "editable": true
   },
   "outputs": [],
   "source": [
    "if reRun:\n",
    "    fc = dive.Facets()\n",
    "    results = fc.create_classes(labels=['Valid', 'Invalid'])\n",
    "    fc.define_atlas(id_df, atlas_height=1000, sprite_width=int(img_dim_inches*img_dpi), sprite_height=int(img_dim_inches*img_dpi), atlas_url='atlas_transparent.png')\n",
    "    fc.render_html('CrankingVoltage.html')"
   ]
  },
  {
   "cell_type": "code",
   "execution_count": null,
   "metadata": {
    "collapsed": true,
    "deletable": true,
    "editable": true
   },
   "outputs": [],
   "source": [
    "fc.create_labeled_variables('results')"
   ]
  },
  {
   "cell_type": "markdown",
   "metadata": {
    "deletable": true,
    "editable": true
   },
   "source": [
    "## Train a Random Forest Model"
   ]
  },
  {
   "cell_type": "code",
   "execution_count": 13,
   "metadata": {
    "collapsed": false,
    "deletable": true,
    "editable": true
   },
   "outputs": [],
   "source": [
    "features = df.copy()\n",
    "features = features.sort_values(by=['EventID'])\n",
    "features = features.drop(columns=['Voltage', 'Milliseconds'])\n",
    "features = features.drop_duplicates()\n",
    "features = features.reset_index(drop=True)\n",
    "features = features.drop(columns=['EventID'])\n",
    "\n",
    "labels = pd.read_csv('CrankingLabels.csv')\n",
    "labels = labels.drop_duplicates()\n",
    "labels = labels.sort_values(by=['EventID'])\n",
    "labels = labels.reset_index(drop=True)\n",
    "labels = labels.drop(columns=['EventID'])\n",
    "labels = labels.values\n",
    "labels = labels.reshape(labels.shape[0])\n",
    "\n",
    "features_m = features.values\n",
    "xtrain, xtest, ytrain, ytest = train_test_split(features_m, labels)"
   ]
  },
  {
   "cell_type": "code",
   "execution_count": null,
   "metadata": {
    "collapsed": false,
    "deletable": true,
    "editable": true
   },
   "outputs": [],
   "source": [
    "rf = RandomForestClassifier(n_estimators=1500, warm_start=False)\n",
    "rffit = rf.fit(xtrain, ytrain)"
   ]
  },
  {
   "cell_type": "code",
   "execution_count": null,
   "metadata": {
    "collapsed": false,
    "deletable": true,
    "editable": true
   },
   "outputs": [],
   "source": [
    "predict = rffit.predict(xtest)"
   ]
  },
  {
   "cell_type": "code",
   "execution_count": null,
   "metadata": {
    "collapsed": true,
    "deletable": true,
    "editable": true
   },
   "outputs": [],
   "source": [
    "report = metrics.classification_report(ytest, predict)"
   ]
  },
  {
   "cell_type": "code",
   "execution_count": null,
   "metadata": {
    "collapsed": false,
    "deletable": true,
    "editable": true
   },
   "outputs": [
    {
     "name": "stdout",
     "output_type": "stream",
     "text": [
      "             precision    recall  f1-score   support\n",
      "\n",
      "          0       0.99      1.00      0.99        81\n",
      "          1       1.00      0.99      1.00       149\n",
      "\n",
      "avg / total       1.00      1.00      1.00       230\n",
      "\n"
     ]
    }
   ],
   "source": [
    "print report"
   ]
  },
  {
   "cell_type": "markdown",
   "metadata": {
    "deletable": true,
    "editable": true
   },
   "source": [
    "## Evaluate Efficacy\n",
    "This seems quite high! Is it really this accurate or did we mis-label?"
   ]
  },
  {
   "cell_type": "code",
   "execution_count": null,
   "metadata": {
    "collapsed": false,
    "deletable": true,
    "editable": true
   },
   "outputs": [],
   "source": [
    "id_features.reset_index(inplace=True, drop=True)\n",
    "id_df = pd.DataFrame(id_array, columns=['Id'])\n",
    "id_df = pd.concat([id_df, id_features, pd.DataFrame(labels[0:400], columns=['Valid'])], axis=1)\n",
    "id_json = id_df.to_json(orient='records')"
   ]
  },
  {
   "cell_type": "code",
   "execution_count": null,
   "metadata": {
    "collapsed": true,
    "deletable": true,
    "editable": true
   },
   "outputs": [],
   "source": [
    "fc = dive.Facets()\n",
    "results = fc.create_classes(labels=['Valid', 'Invalid'])\n",
    "fc.define_atlas(id_df, atlas_height=1000, sprite_width=int(img_dim_inches*img_dpi), sprite_height=int(img_dim_inches*img_dpi), atlas_url='atlas_transparent.png')\n",
    "fc.render_html('CrankingVoltage.html')"
   ]
  },
  {
   "cell_type": "code",
   "execution_count": null,
   "metadata": {
    "collapsed": true,
    "deletable": true,
    "editable": true
   },
   "outputs": [],
   "source": []
  }
 ],
 "metadata": {
  "kernelspec": {
   "display_name": "Python 2",
   "language": "python",
   "name": "python2"
  },
  "language_info": {
   "codemirror_mode": {
    "name": "ipython",
    "version": 2
   },
   "file_extension": ".py",
   "mimetype": "text/x-python",
   "name": "python",
   "nbconvert_exporter": "python",
   "pygments_lexer": "ipython2",
   "version": "2.7.14"
  }
 },
 "nbformat": 4,
 "nbformat_minor": 2
}
